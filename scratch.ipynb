{
 "cells": [
  {
   "cell_type": "code",
   "execution_count": null,
   "metadata": {
    "collapsed": true
   },
   "outputs": [],
   "source": []
  },
  {
   "cell_type": "code",
   "execution_count": null,
   "metadata": {
    "collapsed": true
   },
   "outputs": [],
   "source": []
  },
  {
   "cell_type": "code",
   "execution_count": null,
   "metadata": {
    "collapsed": true
   },
   "outputs": [],
   "source": []
  },
  {
   "cell_type": "code",
   "execution_count": null,
   "metadata": {
    "collapsed": true
   },
   "outputs": [],
   "source": []
  },
  {
   "cell_type": "code",
   "execution_count": null,
   "metadata": {
    "collapsed": true
   },
   "outputs": [],
   "source": [
    " \n"
   ]
  },
  {
   "cell_type": "code",
   "execution_count": 1,
   "metadata": {
    "collapsed": true
   },
   "outputs": [],
   "source": [
    "import PIL.Image as Image\n",
    "import PIL.ImageDraw as ImageDraw\n",
    "import math\n",
    "import random\n",
    "import numpy as np\n",
    "import os\n",
    "import pandas as pd\n",
    "from copy import copy\n",
    "from Cindy_stimuli import *\n",
    "from scipy.misc import imread"
   ]
  },
  {
   "cell_type": "code",
   "execution_count": 2,
   "metadata": {
    "collapsed": true
   },
   "outputs": [],
   "source": [
    "%load_ext autoreload\n",
    "%autoreload 2"
   ]
  },
  {
   "cell_type": "code",
   "execution_count": 26,
   "metadata": {
    "collapsed": true
   },
   "outputs": [],
   "source": [
    "a = PopoutGratings()\n",
    "a.create()"
   ]
  },
  {
   "cell_type": "code",
   "execution_count": 13,
   "metadata": {},
   "outputs": [],
   "source": [
    "b = PopoutCircles()\n",
    "b.create()"
   ]
  },
  {
   "cell_type": "code",
   "execution_count": null,
   "metadata": {
    "collapsed": true
   },
   "outputs": [],
   "source": []
  },
  {
   "cell_type": "code",
   "execution_count": null,
   "metadata": {
    "collapsed": true
   },
   "outputs": [],
   "source": []
  },
  {
   "cell_type": "code",
   "execution_count": null,
   "metadata": {
    "collapsed": true
   },
   "outputs": [],
   "source": []
  },
  {
   "cell_type": "code",
   "execution_count": 11,
   "metadata": {
    "collapsed": true
   },
   "outputs": [],
   "source": [
    "a = pd.DataFrame"
   ]
  },
  {
   "cell_type": "code",
   "execution_count": 9,
   "metadata": {},
   "outputs": [
    {
     "data": {
      "text/plain": [
       "(600, 600, 3)"
      ]
     },
     "execution_count": 9,
     "metadata": {},
     "output_type": "execute_result"
    }
   ],
   "source": [
    "a = imread('/om/user/xf15/NN/project/test_popout_green_circles_on_grid/cat09image0000.png')\n",
    "a.shape"
   ]
  },
  {
   "cell_type": "code",
   "execution_count": 5,
   "metadata": {
    "collapsed": true
   },
   "outputs": [],
   "source": [
    "# dfImages\n",
    "def bb_intersection_over_union(boxA, boxB):\n",
    "    # determine the (x, y)-coordinates of the intersection rectangle\n",
    "    xA = max(boxA[0], boxB[0])\n",
    "    yA = max(boxA[1], boxB[1])\n",
    "    xB = min(boxA[2], boxB[2])\n",
    "    yB = min(boxA[3], boxB[3])\n",
    "    \n",
    "    if xB - xA < 0: \n",
    "        return 0\n",
    "    if yB - yA < 0:\n",
    "        return 0\n",
    "\n",
    "    # compute the area of intersection rectangle\n",
    "    interArea = (xB - xA) * (yB - yA)\n",
    "\n",
    "    # compute the area of both the prediction and ground-truth\n",
    "    # rectangles\n",
    "    boxAArea = (boxA[2] - boxA[0]) * (boxA[3] - boxA[1])\n",
    "    boxBArea = (boxB[2] - boxB[0]) * (boxB[3] - boxB[1])\n",
    "\n",
    "    # compute the intersection over union by taking the intersection\n",
    "    # area and dividing it by the sum of prediction + ground-truth\n",
    "    # areas - the interesection area\n",
    "    iou = interArea / float(boxAArea + boxBArea - interArea)\n",
    "\n",
    "    # return the intersection over union value\n",
    "    return iou"
   ]
  },
  {
   "cell_type": "code",
   "execution_count": 5,
   "metadata": {
    "collapsed": true
   },
   "outputs": [],
   "source": [
    "conv1_feat = np.load('a.npy')"
   ]
  },
  {
   "cell_type": "code",
   "execution_count": 6,
   "metadata": {},
   "outputs": [
    {
     "data": {
      "text/plain": [
       "(1, 64, 150, 150)"
      ]
     },
     "execution_count": 6,
     "metadata": {},
     "output_type": "execute_result"
    }
   ],
   "source": [
    "conv1_feat.shape"
   ]
  },
  {
   "cell_type": "code",
   "execution_count": 6,
   "metadata": {
    "collapsed": true
   },
   "outputs": [],
   "source": [
    "single_item_width = 80"
   ]
  },
  {
   "cell_type": "code",
   "execution_count": 7,
   "metadata": {},
   "outputs": [
    {
     "data": {
      "image/png": "[encoded data removed]",
      "text/plain": [
       "<PIL.PngImagePlugin.PngImageFile image mode=RGB size=600x600 at 0x2B91E47D3710>"
      ]
     },
     "execution_count": 7,
     "metadata": {},
     "output_type": "execute_result"
    }
   ],
   "source": [
    "# my_rois = np.load('clutter_rois.npy') \n",
    "# my_rois = np.load('my_rois.npy')\n",
    "# my_rois = np.load('red_popout_rois.npy') \n",
    "my_rois = np.load('red_popout_rois_1.npy')\n",
    "# my_rois = np.load('grating_rois_1.npy')\n",
    "# my_rois = np.load('popout_rois.npy') \n",
    "my_rois = my_rois[0,:,:]\n",
    "# image = Image.new(\"RGB\", (600, 800))\n",
    "# image = Image.open('/om/user/xf15/NN/project/test_popout_green_circles_on_grid/cat09image0000.png')\n",
    "# image = Image.open('/om/user/xf15/NN/project/test_colorful_circles_on_grid/cat09image0001.png')\n",
    "# image = Image.open('/om/user/xf15/NN/project/test_colorful_circles/cat10image0000.png')\n",
    "num_box = my_rois.shape[0] #300\n",
    "min_rgb = 20\n",
    "max_rgb = 256\n",
    "# rs = np.arange(50, 256, (256-50)//(num_box/3)).astype(int)\n",
    "# gs = np.arange(50, 256, (256-50)//(num_box/3)).astype(int)\n",
    "# bs = np.arange(50, 256, (256-50)//(num_box/3)).astype(int)\n",
    "\n",
    "# gs = np.repeat(0, num_box)\n",
    "# bs = np.repeat(0, num_box)\n",
    "small_rois = np.ndarray((1,4), dtype=\"float32\")\n",
    "for iB in range(num_box-1):\n",
    "    if my_rois[iB, 3] - my_rois[iB, 1] < single_item_width and my_rois[iB, 3] - my_rois[iB, 1] < 80:\n",
    "        small_rois = np.vstack((small_rois, my_rois[iB, 1:5]))\n",
    "small_rois = small_rois[1:,:]        \n",
    "num_small_rois = small_rois.shape[0] #56\n",
    "rs = np.array(random.sample(range(min_rgb, max_rgb), num_small_rois))\n",
    "gs = np.array(random.sample(range(min_rgb, max_rgb), num_small_rois))\n",
    "bs = np.array(random.sample(range(min_rgb, max_rgb), num_small_rois))\n",
    "# print(my_rois.shape)\n",
    "# print(small_rois.shape)\n",
    "image"
   ]
  },
  {
   "cell_type": "code",
   "execution_count": 8,
   "metadata": {},
   "outputs": [
    {
     "name": "stdout",
     "output_type": "stream",
     "text": [
      "5.0174723\n",
      "0.9355564\n"
     ]
    }
   ],
   "source": [
    "def np_vec_no_jit_iou(boxes1, boxes2):\n",
    "#     https://medium.com/@venuktan/vectorized-intersection-over-union-iou-in-numpy-and-tensor-flow-4fa16231b63d\n",
    "    def run(bboxes1, bboxes2):\n",
    "        x11, y11, x12, y12 = np.split(bboxes1, 4, axis=1)\n",
    "        x21, y21, x22, y22 = np.split(bboxes2, 4, axis=1)\n",
    "        xA = np.maximum(x11, np.transpose(x21))\n",
    "        yA = np.maximum(y11, np.transpose(y21))\n",
    "        xB = np.minimum(x12, np.transpose(x22))\n",
    "        yB = np.minimum(y12, np.transpose(y22))\n",
    "        interArea = np.maximum((xB - xA + 1), 0) * np.maximum((yB - yA + 1), 0)\n",
    "        boxAArea = (x12 - x11 + 1) * (y12 - y11 + 1)\n",
    "        boxBArea = (x22 - x21 + 1) * (y22 - y21 + 1)\n",
    "        iou = interArea / (boxAArea + np.transpose(boxBArea) - interArea)\n",
    "        return iou\n",
    "    a = run(boxes1, boxes2)\n",
    "    return a\n",
    "b = np_vec_no_jit_iou(small_rois, small_rois)\n",
    "c = b.sum(axis = 0)\n",
    "d = np.where(c < 2)[0] \n",
    "# d = np.where(c < np.mean(c) - 2 * np.std(c))[0] # use mean and std\n",
    "\n",
    "# print(b.shape)\n",
    "# print(c.shape)\n",
    "# print(d.shape)\n",
    "\n",
    "print(np.mean(c))\n",
    "print(np.std(c))\n",
    "\n",
    "# import matplotlib.pyplot as plt\n",
    "# plt.imshow(b);\n",
    "# plt.colorbar()\n",
    "# plt.show()"
   ]
  },
  {
   "cell_type": "code",
   "execution_count": 9,
   "metadata": {},
   "outputs": [
    {
     "data": {
      "image/png": "[encoded data removed]",
      "text/plain": [
       "<PIL.Image.Image image mode=RGB size=600x600 at 0x2B91E47C5748>"
      ]
     },
     "execution_count": 9,
     "metadata": {},
     "output_type": "execute_result"
    }
   ],
   "source": [
    "image0 = copy(image)\n",
    "draw0 = ImageDraw.Draw(image0)\n",
    "for iB in range(num_small_rois-1):\n",
    "#     draw1.rectangle(small_rois[iB, :], outline = (rs[iB], gs[iB], bs[iB]))\n",
    "    draw0.rectangle(my_rois[iB, :], outline = (rs[iB], gs[iB], bs[iB]))\n",
    "# image1.show()\n",
    "# image1.save('temp.png')\n",
    "image0"
   ]
  },
  {
   "cell_type": "code",
   "execution_count": 10,
   "metadata": {},
   "outputs": [
    {
     "data": {
      "image/png": "[encoded data removed]",
      "text/plain": [
       "<PIL.Image.Image image mode=RGB size=600x600 at 0x2B91E47D31D0>"
      ]
     },
     "execution_count": 10,
     "metadata": {},
     "output_type": "execute_result"
    }
   ],
   "source": [
    "image1 = copy(image)\n",
    "draw1 = ImageDraw.Draw(image1)\n",
    "for iB in range(num_small_rois-1):\n",
    "    draw1.rectangle(small_rois[iB, :], outline = (rs[iB], gs[iB], bs[iB]))\n",
    "#     draw1.rectangle(my_rois[iB, :], outline = (rs[iB], gs[iB], bs[iB]))\n",
    "# image1.show()\n",
    "# image1.save('temp.png')\n",
    "image1"
   ]
  },
  {
   "cell_type": "code",
   "execution_count": 11,
   "metadata": {},
   "outputs": [
    {
     "data": {
      "image/png": "[encoded data removed]",
      "text/plain": [
       "<PIL.Image.Image image mode=RGB size=600x600 at 0x2B91E47E04A8>"
      ]
     },
     "execution_count": 11,
     "metadata": {},
     "output_type": "execute_result"
    }
   ],
   "source": [
    "image2 = copy(image)\n",
    "draw2 = ImageDraw.Draw(image2)\n",
    "# for iB in range(num_small_rois-1):\n",
    "# for iB in d:\n",
    "for iB in list(set(range(num_small_rois-1)) - set(d)):\n",
    "    draw2.rectangle(small_rois[iB, :], outline = (rs[iB], gs[iB], bs[iB]))\n",
    "# image2.show()\n",
    "# image2.save('temp.png')\n",
    "image2"
   ]
  },
  {
   "cell_type": "code",
   "execution_count": 12,
   "metadata": {},
   "outputs": [
    {
     "data": {
      "text/plain": [
       "array([270.03937,  65.00006, 316.76923, 114.46298], dtype=float32)"
      ]
     },
     "execution_count": 12,
     "metadata": {},
     "output_type": "execute_result"
    }
   ],
   "source": [
    "small_rois.shape\n",
    "small_rois[iB, :]"
   ]
  },
  {
   "cell_type": "code",
   "execution_count": 13,
   "metadata": {
    "collapsed": true
   },
   "outputs": [],
   "source": [
    "small_rois_centers = (small_rois[:, 0:2] + small_rois[:, 2:4])/2"
   ]
  },
  {
   "cell_type": "code",
   "execution_count": 14,
   "metadata": {},
   "outputs": [
    {
     "data": {
      "text/plain": [
       "(91, 2)"
      ]
     },
     "execution_count": 14,
     "metadata": {},
     "output_type": "execute_result"
    }
   ],
   "source": [
    "small_rois_centers.shape"
   ]
  },
  {
   "cell_type": "code",
   "execution_count": 15,
   "metadata": {},
   "outputs": [
    {
     "data": {
      "text/plain": [
       "(9, 4)"
      ]
     },
     "execution_count": 15,
     "metadata": {},
     "output_type": "execute_result"
    }
   ],
   "source": [
    "from sklearn.cluster import MeanShift\n",
    "clustering = MeanShift(bandwidth=single_item_width).fit(small_rois_centers)\n",
    "num_clusters = len(set(clustering.labels_))\n",
    "mean_clusterred_rois = np.zeros((num_clusters, 4), dtype = \"float32\")\n",
    "for iC in range(num_clusters):\n",
    "    mean_clusterred_rois[iC] = np.mean(small_rois[np.where(clustering.labels_ == iC)[0], :], axis=0)\n",
    "mean_clusterred_rois.shape"
   ]
  },
  {
   "cell_type": "code",
   "execution_count": 16,
   "metadata": {},
   "outputs": [
    {
     "name": "stdout",
     "output_type": "stream",
     "text": [
      "[462.74542 243.80103 527.34894 357.35184]\n",
      "[264.35403 260.2289  327.1236  343.6204 ]\n",
      "[ 67.37832 458.52835 129.41063 531.8791 ]\n",
      "[ 69.25131 254.21992 133.45862 343.90985]\n",
      "[460.41718 453.98602 526.3893  530.2336 ]\n",
      "[262.24258  64.32488 325.9222  133.82652]\n",
      "[ 68.38352   63.981705 129.53937  134.13986 ]\n",
      "[461.67545   64.702354 525.0546   139.24821 ]\n",
      "[261.2027  451.2487  331.086   532.89386]\n"
     ]
    }
   ],
   "source": [
    "image3 = copy(image)\n",
    "draw3 = ImageDraw.Draw(image3)\n",
    "for iB in mean_clusterred_rois:\n",
    "    print(iB)\n",
    "    draw3.rectangle(iB, outline = (200,200,200))"
   ]
  },
  {
   "cell_type": "code",
   "execution_count": 17,
   "metadata": {},
   "outputs": [
    {
     "data": {
      "image/png": "[encoded data removed]",
      "text/plain": [
       "<PIL.Image.Image image mode=RGB size=600x600 at 0x2B91E47D34A8>"
      ]
     },
     "execution_count": 17,
     "metadata": {},
     "output_type": "execute_result"
    }
   ],
   "source": [
    "image3"
   ]
  },
  {
   "cell_type": "code",
   "execution_count": 18,
   "metadata": {},
   "outputs": [
    {
     "name": "stdout",
     "output_type": "stream",
     "text": [
      "(91, 91)\n",
      "(91,)\n",
      "(1,)\n"
     ]
    }
   ],
   "source": [
    "print(b.shape)\n",
    "print(c.shape)\n",
    "print(d.shape)"
   ]
  },
  {
   "cell_type": "code",
   "execution_count": 19,
   "metadata": {
    "collapsed": true
   },
   "outputs": [],
   "source": [
    "mean_clusterred_rois = np.concatenate((np.zeros((1, num_clusters)).T, mean_clusterred_rois), axis=1)"
   ]
  },
  {
   "cell_type": "code",
   "execution_count": 20,
   "metadata": {},
   "outputs": [
    {
     "data": {
      "text/plain": [
       "array([[  0.        , 462.74542236, 243.80102539, 527.34893799,\n",
       "        357.35183716],\n",
       "       [  0.        , 264.35403442, 260.22891235, 327.12359619,\n",
       "        343.62039185],\n",
       "       [  0.        ,  67.37831879, 458.52835083, 129.41062927,\n",
       "        531.87908936],\n",
       "       [  0.        ,  69.25131226, 254.21992493, 133.45861816,\n",
       "        343.90985107],\n",
       "       [  0.        , 460.41717529, 453.98602295, 526.38928223,\n",
       "        530.23358154],\n",
       "       [  0.        , 262.24258423,  64.32488251, 325.92221069,\n",
       "        133.82652283],\n",
       "       [  0.        ,  68.38352203,  63.98170471, 129.53936768,\n",
       "        134.13986206],\n",
       "       [  0.        , 461.67544556,  64.70235443, 525.05462646,\n",
       "        139.24821472],\n",
       "       [  0.        , 261.20269775, 451.24868774, 331.08599854,\n",
       "        532.89385986]])"
      ]
     },
     "execution_count": 20,
     "metadata": {},
     "output_type": "execute_result"
    }
   ],
   "source": [
    "mean_clusterred_rois"
   ]
  },
  {
   "cell_type": "code",
   "execution_count": 21,
   "metadata": {
    "collapsed": true
   },
   "outputs": [],
   "source": [
    "def find_the_popout(X):\n",
    "    X = mean_clusterred_rois\n",
    "    num_items = X.shape[0]\n",
    "    dists_matrix  = (np.sum(X**2, axis = 1) - 2 * X.dot(X.T)).T + np.sum(X**2, axis = 1)\n",
    "    sum_dists_from_others = dists_matrix.sum(axis =0)\n",
    "    popout_index = np.argmax(sum_dists_from_others)\n",
    "    popout_rois = mean_clusterred_rois[popout_index, 1:5]\n",
    "    return popout_rois"
   ]
  },
  {
   "cell_type": "code",
   "execution_count": 22,
   "metadata": {
    "collapsed": true
   },
   "outputs": [],
   "source": [
    "# import torch\n",
    "# def find_the_popout(X):\n",
    "#     X = torch.from_numpy(mean_clusterred_rois)\n",
    "#     num_items = X.shape[0]\n",
    "# #     dists_matrix  = (torch.sum(X**2, dim= 1) - 2 * X.mm(X.t())).t() + torch.sum(X**2, dim= 1)\n",
    "#     dists_matrix  = (torch.sum(X**2, dim= 1) - 2 * torch.mm(X, X.t())).t() + torch.sum(X**2, dim= 1)\n",
    "#     sum_dists_from_others = torch.sum(dists_matrix, dim =0)\n",
    "#     popout_index = torch.max(sum_dists_from_others)\n",
    "#     popout_rois = mean_clusterred_rois[popout_index, 1:5]\n",
    "#     return popout_rois"
   ]
  },
  {
   "cell_type": "code",
   "execution_count": 23,
   "metadata": {
    "collapsed": true
   },
   "outputs": [],
   "source": [
    "my_feat = np.load('my_feat.npy')\n",
    "popout_rois = find_the_popout(my_feat)"
   ]
  },
  {
   "cell_type": "code",
   "execution_count": 24,
   "metadata": {},
   "outputs": [
    {
     "data": {
      "image/png": "[encoded data removed]",
      "text/plain": [
       "<PIL.Image.Image image mode=RGB size=600x600 at 0x2B91E47D3F98>"
      ]
     },
     "execution_count": 24,
     "metadata": {},
     "output_type": "execute_result"
    }
   ],
   "source": [
    "image4 = copy(image)\n",
    "draw4 = ImageDraw.Draw(image4)\n",
    "draw4.rectangle(np.float32(popout_rois), outline = (200,200,200))\n",
    "image4"
   ]
  },
  {
   "cell_type": "code",
   "execution_count": 25,
   "metadata": {},
   "outputs": [
    {
     "ename": "NameError",
     "evalue": "name 'dists_matrix' is not defined",
     "output_type": "error",
     "traceback": [
      "\u001b[0;31m---------------------------------------------------------------------------\u001b[0m",
      "\u001b[0;31mNameError\u001b[0m                                 Traceback (most recent call last)",
      "\u001b[0;32m<ipython-input-25-ba2f2d6253ef>\u001b[0m in \u001b[0;36m<module>\u001b[0;34m()\u001b[0m\n\u001b[1;32m      1\u001b[0m \u001b[0;32mimport\u001b[0m \u001b[0mmatplotlib\u001b[0m\u001b[0;34m.\u001b[0m\u001b[0mpyplot\u001b[0m \u001b[0;32mas\u001b[0m \u001b[0mplt\u001b[0m\u001b[0;34m\u001b[0m\u001b[0m\n\u001b[0;32m----> 2\u001b[0;31m \u001b[0mplt\u001b[0m\u001b[0;34m.\u001b[0m\u001b[0mimshow\u001b[0m\u001b[0;34m(\u001b[0m\u001b[0mdists_matrix\u001b[0m\u001b[0;34m)\u001b[0m\u001b[0;34m\u001b[0m\u001b[0m\n\u001b[0m\u001b[1;32m      3\u001b[0m \u001b[0mplt\u001b[0m\u001b[0;34m.\u001b[0m\u001b[0mcolorbar\u001b[0m\u001b[0;34m(\u001b[0m\u001b[0;34m)\u001b[0m\u001b[0;34m\u001b[0m\u001b[0m\n\u001b[1;32m      4\u001b[0m \u001b[0mplt\u001b[0m\u001b[0;34m.\u001b[0m\u001b[0mshow\u001b[0m\u001b[0;34m(\u001b[0m\u001b[0;34m)\u001b[0m\u001b[0;34m\u001b[0m\u001b[0m\n",
      "\u001b[0;31mNameError\u001b[0m: name 'dists_matrix' is not defined"
     ]
    }
   ],
   "source": [
    "import matplotlib.pyplot as plt\n",
    "plt.imshow(dists_matrix)\n",
    "plt.colorbar()\n",
    "plt.show()"
   ]
  },
  {
   "cell_type": "code",
   "execution_count": null,
   "metadata": {
    "collapsed": true
   },
   "outputs": [],
   "source": [
    "X = my_feat\n",
    "num_items = X.shape[0]\n",
    "dists_matrix  = (np.sum(X**2, axis = 1) - 2 * X.dot(X.T)).T + np.sum(X**2, axis = 1)\n",
    "sum_dists_from_others = dists_matrix.sum(axis =0)\n",
    "popout_index = np.argmax(sum_dists_from_others)\n",
    "popout_rois = X[popout_index, 1:5]\n"
   ]
  },
  {
   "cell_type": "code",
   "execution_count": null,
   "metadata": {
    "collapsed": true
   },
   "outputs": [],
   "source": [
    "popout_rois.dtype"
   ]
  },
  {
   "cell_type": "code",
   "execution_count": null,
   "metadata": {
    "collapsed": true
   },
   "outputs": [],
   "source": [
    "a =find_the_popout(mean_clusterred_rois)"
   ]
  },
  {
   "cell_type": "code",
   "execution_count": null,
   "metadata": {
    "collapsed": true
   },
   "outputs": [],
   "source": [
    "my_feat.shape"
   ]
  },
  {
   "cell_type": "code",
   "execution_count": null,
   "metadata": {
    "collapsed": true
   },
   "outputs": [],
   "source": [
    "small_rois[iB, :]"
   ]
  },
  {
   "cell_type": "code",
   "execution_count": null,
   "metadata": {
    "collapsed": true
   },
   "outputs": [],
   "source": [
    "feat_df = pd.DataFrame(my_feat.T, index = range(2048))\n",
    "plt.figure() \n",
    "feat_df.plot(alpha=0.5)\n",
    "plt.show()"
   ]
  },
  {
   "cell_type": "code",
   "execution_count": null,
   "metadata": {
    "collapsed": true
   },
   "outputs": [],
   "source": [
    "ts\n",
    "df;"
   ]
  },
  {
   "cell_type": "code",
   "execution_count": null,
   "metadata": {
    "collapsed": true
   },
   "outputs": [],
   "source": [
    "ts = pd.Series(np.random.randn(1000), index=pd.date_range('1/1/2000', periods=1000))\n",
    "df = pd.DataFrame(np.random.randn(1000, 4), index=ts.index, columns=list('ABCD'))\n",
    "df = df.cumsum()"
   ]
  },
  {
   "cell_type": "code",
   "execution_count": null,
   "metadata": {
    "collapsed": true
   },
   "outputs": [],
   "source": [
    "plt.figure() \n",
    "df.plot()\n",
    "plt.show()"
   ]
  },
  {
   "cell_type": "code",
   "execution_count": null,
   "metadata": {
    "collapsed": true
   },
   "outputs": [],
   "source": []
  },
  {
   "cell_type": "code",
   "execution_count": null,
   "metadata": {
    "collapsed": true
   },
   "outputs": [],
   "source": []
  }
 ],
 "metadata": {
  "kernelspec": {
   "display_name": "Python 3",
   "language": "python",
   "name": "python3"
  },
  "language_info": {
   "codemirror_mode": {
    "name": "ipython",
    "version": 3
   },
   "file_extension": ".py",
   "mimetype": "text/x-python",
   "name": "python",
   "nbconvert_exporter": "python",
   "pygments_lexer": "ipython3",
   "version": "3.6.3"
  }
 },
 "nbformat": 4,
 "nbformat_minor": 2
}
